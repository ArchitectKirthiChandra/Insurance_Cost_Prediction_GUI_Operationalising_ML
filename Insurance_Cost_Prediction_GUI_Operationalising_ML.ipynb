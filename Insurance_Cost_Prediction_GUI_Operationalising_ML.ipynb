{
 "cells": [
  {
   "cell_type": "code",
   "execution_count": null,
   "id": "9b3ae4d7",
   "metadata": {},
   "outputs": [],
   "source": [
    "import pandas as pd"
   ]
  },
  {
   "cell_type": "code",
   "execution_count": null,
   "id": "3adc36ef",
   "metadata": {},
   "outputs": [],
   "source": [
    "df = pd.read_csv('insurance.csv')\n",
    "df.head()"
   ]
  },
  {
   "cell_type": "markdown",
   "id": "f9455775",
   "metadata": {},
   "source": [
    "# 1. Preprocessing"
   ]
  },
  {
   "cell_type": "code",
   "execution_count": null,
   "id": "8fe3f717",
   "metadata": {},
   "outputs": [],
   "source": [
    "df.head(3)"
   ]
  },
  {
   "cell_type": "code",
   "execution_count": null,
   "id": "37ab7dbf",
   "metadata": {},
   "outputs": [],
   "source": [
    "df.tail(3)"
   ]
  },
  {
   "cell_type": "code",
   "execution_count": null,
   "id": "bcb71a29",
   "metadata": {},
   "outputs": [],
   "source": [
    "print('The number of rows and columns in the insurance dataframe is: ',df.shape)"
   ]
  },
  {
   "cell_type": "code",
   "execution_count": null,
   "id": "aae4abc8",
   "metadata": {},
   "outputs": [],
   "source": [
    "df.info()"
   ]
  },
  {
   "cell_type": "code",
   "execution_count": null,
   "id": "37981cfe",
   "metadata": {},
   "outputs": [],
   "source": [
    "df.isnull().sum()"
   ]
  },
  {
   "cell_type": "code",
   "execution_count": null,
   "id": "15ad3df3",
   "metadata": {},
   "outputs": [],
   "source": [
    "df.describe(include = 'O')"
   ]
  },
  {
   "cell_type": "code",
   "execution_count": null,
   "id": "bc707133",
   "metadata": {},
   "outputs": [],
   "source": [
    "df.describe()"
   ]
  },
  {
   "cell_type": "code",
   "execution_count": null,
   "id": "014b779e",
   "metadata": {},
   "outputs": [],
   "source": [
    "df.sex.unique()"
   ]
  },
  {
   "cell_type": "code",
   "execution_count": null,
   "id": "a44a0890",
   "metadata": {},
   "outputs": [],
   "source": [
    "df['sex'] = df['sex'].map({'female':0, 'male':1})\n",
    "df['smoker'] = df['smoker'].map({'yes':0, 'no':1})\n",
    "df['region'] = df['region'].map({'southwest':1, 'southeast':2, 'northwest':3, 'northeast':4})\n",
    "df.head()"
   ]
  },
  {
   "cell_type": "markdown",
   "id": "81852db5",
   "metadata": {},
   "source": [
    "# Predictors and Target Variables"
   ]
  },
  {
   "cell_type": "code",
   "execution_count": null,
   "id": "be99ff8c",
   "metadata": {},
   "outputs": [],
   "source": [
    "X = df.drop(columns = 'charges', axis = 1)\n",
    "y = df['charges']\n",
    "\n",
    "X.shape, y.shape"
   ]
  },
  {
   "cell_type": "markdown",
   "id": "3767acb8",
   "metadata": {},
   "source": [
    "# Train and Test Split"
   ]
  },
  {
   "cell_type": "code",
   "execution_count": null,
   "id": "a0f2d759",
   "metadata": {},
   "outputs": [],
   "source": [
    "from sklearn.model_selection import train_test_split\n",
    "\n",
    "X_train, X_test, y_train, y_test = train_test_split(X,y,train_size = 0.7, random_state = 29)\n",
    "\n",
    "X_train.shape, X_test.shape, y_train.shape, y_test.shape"
   ]
  },
  {
   "cell_type": "markdown",
   "id": "6c24cae4",
   "metadata": {},
   "source": [
    "# Import the models"
   ]
  },
  {
   "cell_type": "code",
   "execution_count": null,
   "id": "5e64e6d9",
   "metadata": {},
   "outputs": [],
   "source": [
    "from sklearn.linear_model import LinearRegression\n",
    "from sklearn.svm import SVR\n",
    "from sklearn.ensemble import RandomForestRegressor\n",
    "from sklearn.ensemble import GradientBoostingRegressor"
   ]
  },
  {
   "cell_type": "markdown",
   "id": "4bde01d0",
   "metadata": {},
   "source": [
    "# Model Training"
   ]
  },
  {
   "cell_type": "code",
   "execution_count": null,
   "id": "4bdc1695",
   "metadata": {},
   "outputs": [],
   "source": [
    "lr = LinearRegression().fit(X_train, y_train)\n",
    "svr = SVR().fit(X_train, y_train)\n",
    "rf = RandomForestRegressor().fit(X_train, y_train)\n",
    "gr = GradientBoostingRegressor().fit(X_train, y_train)"
   ]
  },
  {
   "cell_type": "markdown",
   "id": "2cf23112",
   "metadata": {},
   "source": [
    "# Prediction on test data"
   ]
  },
  {
   "cell_type": "code",
   "execution_count": null,
   "id": "09b91e5d",
   "metadata": {},
   "outputs": [],
   "source": [
    "y_pred1 = lr.predict(X_test)\n",
    "y_pred2 = svr.predict(X_test)\n",
    "y_pred3 = rf.predict(X_test)\n",
    "y_pred4 = gr.predict(X_test)\n",
    "\n",
    "df1 = pd.DataFrame({'Actual':y_test,'lr':y_pred1, \n",
    "                  'svr':y_pred2,'rf':y_pred3,\n",
    "                  'gr':y_pred4})\n",
    "df2 = X_test.join(df1)\n",
    "df2"
   ]
  },
  {
   "cell_type": "markdown",
   "id": "9a82b567",
   "metadata": {},
   "source": [
    "# Compare the performance Visually"
   ]
  },
  {
   "cell_type": "code",
   "execution_count": null,
   "id": "09da91ed",
   "metadata": {},
   "outputs": [],
   "source": [
    "import matplotlib.pyplot as plt"
   ]
  },
  {
   "cell_type": "code",
   "execution_count": null,
   "id": "402c8efb",
   "metadata": {},
   "outputs": [],
   "source": [
    "df1.columns"
   ]
  },
  {
   "cell_type": "code",
   "execution_count": null,
   "id": "2f0bb240",
   "metadata": {},
   "outputs": [],
   "source": [
    "plt.figure(figsize = (15,10))\n",
    "\n",
    "plt.subplot(2,2,1)\n",
    "plt.plot(df1.Actual.iloc[0:11], label = 'Actual')\n",
    "plt.plot(df1.lr.iloc[0:11], label = 'lr')\n",
    "plt.legend()\n",
    "\n",
    "plt.subplot(2,2,2)\n",
    "plt.plot(df1.Actual.iloc[0:11], label = 'Actual')\n",
    "plt.plot(df1.svr.iloc[0:11], label = 'svr')\n",
    "plt.legend()\n",
    "\n",
    "plt.subplot(2,2,3)\n",
    "plt.plot(df1.Actual.iloc[0:11], label = 'Actual')\n",
    "plt.plot(df1.rf.iloc[0:11], label = 'rf')\n",
    "plt.legend()\n",
    "\n",
    "plt.subplot(2,2,4)\n",
    "plt.plot(df1.Actual.iloc[0:11], label = 'Actual')\n",
    "plt.plot(df1.gr.iloc[0:11], label = 'gr')                         \n",
    "plt.legend()          \n",
    "\n",
    "plt.tight_layout()\n",
    "plt.show()"
   ]
  },
  {
   "cell_type": "markdown",
   "id": "b86e14b6",
   "metadata": {},
   "source": [
    "# Evaluate the models\n",
    "(using Rsquare to find how well a regression model (independent variable) predicts the outcome of observed data (dependent variable))"
   ]
  },
  {
   "cell_type": "code",
   "execution_count": null,
   "id": "0d0de336",
   "metadata": {},
   "outputs": [],
   "source": [
    "from sklearn.metrics import r2_score, mean_absolute_error\n",
    "\n",
    "score1 = r2_score(y_test, y_pred1)\n",
    "score2 = r2_score(y_test, y_pred2)\n",
    "score3 = r2_score(y_test, y_pred3)\n",
    "score4 = r2_score(y_test, y_pred4)\n",
    "\n",
    "score1, score2, score3, score4"
   ]
  },
  {
   "cell_type": "code",
   "execution_count": null,
   "id": "cd064297",
   "metadata": {},
   "outputs": [],
   "source": [
    "s1 = mean_absolute_error(y_test,y_pred1)\n",
    "s2 = mean_absolute_error(y_test,y_pred2)\n",
    "s3 = mean_absolute_error(y_test,y_pred3)\n",
    "s4 = mean_absolute_error(y_test,y_pred4)\n",
    "\n",
    "s1,s2,s3,s4"
   ]
  },
  {
   "cell_type": "markdown",
   "id": "7222d496",
   "metadata": {},
   "source": [
    "# Predict charges for New Customer"
   ]
  },
  {
   "cell_type": "code",
   "execution_count": null,
   "id": "3e6337ec",
   "metadata": {},
   "outputs": [],
   "source": [
    "data = {'age':40,\n",
    "       'sex':1,\n",
    "       'bmi':40.30,\n",
    "       'children':4,\n",
    "       'smoker':1,\n",
    "       'region':2}\n",
    "df3 = pd.DataFrame(data,index = [0])\n",
    "df3"
   ]
  },
  {
   "cell_type": "code",
   "execution_count": null,
   "id": "0c6dd2f9",
   "metadata": {},
   "outputs": [],
   "source": [
    "gr.predict(df3)"
   ]
  },
  {
   "cell_type": "markdown",
   "id": "6c5187ce",
   "metadata": {},
   "source": [
    "# Train the model of the entire dataset before deployment using Joblib"
   ]
  },
  {
   "cell_type": "code",
   "execution_count": null,
   "id": "52c42cd9",
   "metadata": {},
   "outputs": [],
   "source": [
    "gr = GradientBoostingRegressor()\n",
    "gr.fit(X,y)"
   ]
  },
  {
   "cell_type": "markdown",
   "id": "b0c16713",
   "metadata": {},
   "source": [
    "# Save Model Using Joblib"
   ]
  },
  {
   "cell_type": "code",
   "execution_count": null,
   "id": "69b69454",
   "metadata": {},
   "outputs": [],
   "source": [
    "from joblib import load, dump"
   ]
  },
  {
   "cell_type": "code",
   "execution_count": null,
   "id": "2451474d",
   "metadata": {},
   "outputs": [],
   "source": [
    "dump(gr,'model_joblib_gr')"
   ]
  },
  {
   "cell_type": "code",
   "execution_count": null,
   "id": "82347c2a",
   "metadata": {},
   "outputs": [],
   "source": [
    "model = load('model_joblib_gr')"
   ]
  },
  {
   "cell_type": "code",
   "execution_count": null,
   "id": "05a0df11",
   "metadata": {},
   "outputs": [],
   "source": [
    "model.predict(df3)"
   ]
  },
  {
   "cell_type": "markdown",
   "id": "3803d3bc",
   "metadata": {},
   "source": [
    "# Create GUI of charges for newly arrived customer"
   ]
  },
  {
   "cell_type": "code",
   "execution_count": 1,
   "id": "d4121fa9",
   "metadata": {},
   "outputs": [],
   "source": [
    "from tkinter import *"
   ]
  },
  {
   "cell_type": "code",
   "execution_count": 2,
   "id": "13b432ff",
   "metadata": {},
   "outputs": [],
   "source": [
    "import joblib"
   ]
  },
  {
   "cell_type": "code",
   "execution_count": 6,
   "id": "31bf9d0e",
   "metadata": {},
   "outputs": [
    {
     "name": "stderr",
     "output_type": "stream",
     "text": [
      "C:\\Users\\kirthi_chandra_anaconda\\lib\\site-packages\\sklearn\\base.py:464: UserWarning: X does not have valid feature names, but GradientBoostingRegressor was fitted with feature names\n",
      "  warnings.warn(\n"
     ]
    }
   ],
   "source": [
    "import joblib\n",
    "import tkinter as tk\n",
    "\n",
    "def show_entry():\n",
    "    \"\"\"Predict the insurance cost based on the user's input.\"\"\"\n",
    "\n",
    "    try:\n",
    "        # Get the user's input.\n",
    "        p1 = float(e1.get())\n",
    "        p2 = float(e2.get())\n",
    "        p3 = float(e3.get())\n",
    "        p4 = float(e4.get())\n",
    "        p5 = float(e5.get())\n",
    "        p6 = float(e6.get())\n",
    "\n",
    "        # Load the machine learning model.\n",
    "        model = joblib.load('model_joblib_gr')\n",
    "\n",
    "        # Make a prediction.\n",
    "        result = model.predict([[p1, p2, p3, p4, p5, p6]])\n",
    "\n",
    "        # Display the result.\n",
    "        Label(master, text=\"Insurance Cost\").grid(row=7)\n",
    "        Label(master, text=result[0], fg=\"green\").grid(row=8)\n",
    "    except ValueError:\n",
    "        # Display an error message if the user's input is invalid.\n",
    "        Label(master, text=\"Invalid input.\", fg=\"red\").grid(row=8)\n",
    "\n",
    "master = tk.Tk()\n",
    "master.title(\"Insurance Cost Prediction\")\n",
    "\n",
    "# Create a label for the title.\n",
    "label = tk.Label(master, text=\"Insurance Cost Prediction\", bg=\"black\", fg=\"white\")\n",
    "label.grid(row=0, columnspan=2)\n",
    "\n",
    "# Create labels for the input fields.\n",
    "Label(master, text=\"Enter Your Age\").grid(row=1)\n",
    "Label(master, text=\"Male Or Female [1/0]\").grid(row=2)\n",
    "Label(master, text=\"Enter your BMI Value\").grid(row=3)\n",
    "Label(master, text=\"Enter Number of Children\").grid(row=4)\n",
    "Label(master, text=\"Smoker Yes/No[1/0]\").grid(row=5)\n",
    "Label(master, text=\"Region [1-4]\").grid(row=6)\n",
    "\n",
    "# Create entry fields for the user's input.\n",
    "e1 = tk.Entry(master)\n",
    "e2 = tk.Entry(master)\n",
    "e3 = tk.Entry(master)\n",
    "e4 = tk.Entry(master)\n",
    "e5 = tk.Entry(master)\n",
    "e6 = tk.Entry(master)\n",
    "\n",
    "# Place the entry fields on the grid.\n",
    "e1.grid(row=1, column=1)\n",
    "e2.grid(row=2, column=1)\n",
    "e3.grid(row=3, column=1)\n",
    "e4.grid(row=4, column=1)\n",
    "e5.grid(row=5, column=1)\n",
    "e6.grid(row=6, column=1)\n",
    "\n",
    "# Create a button to submit the form.\n",
    "button = tk.Button(master, text=\"Predict\", command=show_entry)\n",
    "button.grid()\n",
    "\n",
    "# Start the mainloop.\n",
    "master.mainloop()"
   ]
  },
  {
   "cell_type": "code",
   "execution_count": null,
   "id": "b7b9e12e",
   "metadata": {},
   "outputs": [],
   "source": []
  }
 ],
 "metadata": {
  "kernelspec": {
   "display_name": "Python 3 (ipykernel)",
   "language": "python",
   "name": "python3"
  },
  "language_info": {
   "codemirror_mode": {
    "name": "ipython",
    "version": 3
   },
   "file_extension": ".py",
   "mimetype": "text/x-python",
   "name": "python",
   "nbconvert_exporter": "python",
   "pygments_lexer": "ipython3",
   "version": "3.9.18"
  }
 },
 "nbformat": 4,
 "nbformat_minor": 5
}
